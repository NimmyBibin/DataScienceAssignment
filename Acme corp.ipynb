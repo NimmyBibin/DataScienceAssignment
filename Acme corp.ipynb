{
 "cells": [
  {
   "cell_type": "markdown",
   "id": "4b64df4e",
   "metadata": {},
   "source": [
    "The Company by the name Acme Corporation manufactures light bulbs. The CEO of the company claims that an average Acme light bulb lasts for 300 days. So for testing, 15 bulbs are selected by a researcher randomly. An average sample bulb lasts for 290 days, with 50 days of standard deviation. What is the probability that 15 randomly selected bulbs do not have an average life of more than 290 days?"
   ]
  },
  {
   "cell_type": "markdown",
   "id": "9f20e636",
   "metadata": {},
   "source": [
    "Solution:"
   ]
  },
  {
   "cell_type": "markdown",
   "id": "d9b2b5cf",
   "metadata": {},
   "source": [
    "The t-statistic for this data is t+=+%28x+-+mu%29%2F%28s%2Fsqrt%28n%29%29, where x is the mean of the sample of bulbs, mu is the population mean, s is the standard deviation of the sample, and n is the number of items in the sample.\n",
    "Given:\n",
    "Sample Mean (x̄) = 290 days\n",
    "Standard Deviation (σ) = 50 days\n",
    "Sample Size (n) = 15 bulbs\n",
    "\n",
    "SE = 50 / √15 ≈ 12.91\n",
    "\n",
    "Now, we'll calculate the z-score for the sample mean:\n",
    "\n",
    "z = (x̄ - μ) / SE\n",
    "\n",
    "z = (290 - 300) / 12.91 ≈ -0.775\n",
    "\n",
    "so:\n",
    "\n",
    " the t-score is -.7746.\n",
    "\n",
    "The t-distribution changes in shape depending on how many items are in the sample. We have to use the t-distribution corresponding to the appropriate number of degrees of freedom. For probability calculations, the number of degrees of freedom is n - 1, so here we need the t-distribution with 14 degrees of freedom.\n",
    "\n",
    " to calculate the probability that t < -.7746 with 14 degrees of freedom.\n",
    " The t-value is less than the t-value obtained With 14 degrees of freedom and a t score of -.7746, the table returns a probability of the bulbs lasting less than 290 days on average of .2257 assuming the mean life of the bulbs is 300 days."
   ]
  }
 ],
 "metadata": {
  "kernelspec": {
   "display_name": "Python 3 (ipykernel)",
   "language": "python",
   "name": "python3"
  },
  "language_info": {
   "codemirror_mode": {
    "name": "ipython",
    "version": 3
   },
   "file_extension": ".py",
   "mimetype": "text/x-python",
   "name": "python",
   "nbconvert_exporter": "python",
   "pygments_lexer": "ipython3",
   "version": "3.10.9"
  }
 },
 "nbformat": 4,
 "nbformat_minor": 5
}
