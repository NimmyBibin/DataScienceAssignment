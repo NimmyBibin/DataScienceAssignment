{
 "cells": [
  {
   "cell_type": "code",
   "execution_count": 1,
   "id": "e97b1dbc",
   "metadata": {},
   "outputs": [],
   "source": [
    "# Required Libraries\n",
    "import pandas as pd\n",
    "import numpy as np\n",
    "import matplotlib.pyplot as plt\n",
    "import nltk\n",
    "from nltk.tokenize import word_tokenize\n",
    "import re\n",
    "import gensim\n",
    "import spacy\n",
    "from sklearn.model_selection import train_test_split\n",
    "from sklearn.linear_model import LinearRegression\n",
    "from sklearn.multioutput import MultiOutputRegressor\n",
    "from sklearn.metrics import mean_squared_error, r2_score"
   ]
  },
  {
   "cell_type": "code",
   "execution_count": 2,
   "id": "eaf34958",
   "metadata": {},
   "outputs": [
    {
     "name": "stdout",
     "output_type": "stream",
     "text": [
      "Collecting spacy\n",
      "  Downloading spacy-3.5.3-cp310-cp310-win_amd64.whl (12.2 MB)\n",
      "     ---------------------------------------- 12.2/12.2 MB 2.2 MB/s eta 0:00:00\n",
      "Collecting pathy>=0.10.0\n",
      "  Downloading pathy-0.10.1-py3-none-any.whl (48 kB)\n",
      "     ---------------------------------------- 48.9/48.9 kB 2.6 MB/s eta 0:00:00\n",
      "Requirement already satisfied: requests<3.0.0,>=2.13.0 in c:\\users\\lenovo\\anaconda3\\lib\\site-packages (from spacy) (2.30.0)\n",
      "Requirement already satisfied: packaging>=20.0 in c:\\users\\lenovo\\anaconda3\\lib\\site-packages (from spacy) (22.0)\n",
      "Collecting pydantic!=1.8,!=1.8.1,<1.11.0,>=1.7.4\n",
      "  Downloading pydantic-1.10.7-cp310-cp310-win_amd64.whl (2.1 MB)\n",
      "     ---------------------------------------- 2.1/2.1 MB 3.5 MB/s eta 0:00:00\n",
      "Collecting langcodes<4.0.0,>=3.2.0\n",
      "  Downloading langcodes-3.3.0-py3-none-any.whl (181 kB)\n",
      "     -------------------------------------- 181.6/181.6 kB 3.6 MB/s eta 0:00:00\n",
      "Collecting catalogue<2.1.0,>=2.0.6\n",
      "  Downloading catalogue-2.0.8-py3-none-any.whl (17 kB)\n",
      "Collecting preshed<3.1.0,>=3.0.2\n",
      "  Downloading preshed-3.0.8-cp310-cp310-win_amd64.whl (94 kB)\n",
      "     ---------------------------------------- 94.7/94.7 kB 5.3 MB/s eta 0:00:00\n",
      "Collecting murmurhash<1.1.0,>=0.28.0\n",
      "  Downloading murmurhash-1.0.9-cp310-cp310-win_amd64.whl (18 kB)\n",
      "Collecting spacy-legacy<3.1.0,>=3.0.11\n",
      "  Downloading spacy_legacy-3.0.12-py2.py3-none-any.whl (29 kB)\n",
      "Collecting cymem<2.1.0,>=2.0.2\n",
      "  Downloading cymem-2.0.7-cp310-cp310-win_amd64.whl (29 kB)\n",
      "Collecting spacy-loggers<2.0.0,>=1.0.0\n",
      "  Downloading spacy_loggers-1.0.4-py3-none-any.whl (11 kB)\n",
      "Requirement already satisfied: numpy>=1.15.0 in c:\\users\\lenovo\\anaconda3\\lib\\site-packages (from spacy) (1.23.5)\n",
      "Collecting thinc<8.2.0,>=8.1.8\n",
      "  Downloading thinc-8.1.10-cp310-cp310-win_amd64.whl (1.5 MB)\n",
      "     ---------------------------------------- 1.5/1.5 MB 3.5 MB/s eta 0:00:00\n",
      "Requirement already satisfied: tqdm<5.0.0,>=4.38.0 in c:\\users\\lenovo\\anaconda3\\lib\\site-packages (from spacy) (4.64.1)\n",
      "Requirement already satisfied: setuptools in c:\\users\\lenovo\\anaconda3\\lib\\site-packages (from spacy) (65.6.3)\n",
      "Collecting typer<0.8.0,>=0.3.0\n",
      "  Downloading typer-0.7.0-py3-none-any.whl (38 kB)\n",
      "Collecting wasabi<1.2.0,>=0.9.1\n",
      "  Downloading wasabi-1.1.1-py3-none-any.whl (27 kB)\n",
      "Requirement already satisfied: smart-open<7.0.0,>=5.2.1 in c:\\users\\lenovo\\anaconda3\\lib\\site-packages (from spacy) (5.2.1)\n",
      "Requirement already satisfied: jinja2 in c:\\users\\lenovo\\anaconda3\\lib\\site-packages (from spacy) (3.1.2)\n",
      "Collecting srsly<3.0.0,>=2.4.3\n",
      "  Downloading srsly-2.4.6-cp310-cp310-win_amd64.whl (480 kB)\n",
      "     -------------------------------------- 480.9/480.9 kB 1.7 MB/s eta 0:00:00\n",
      "Requirement already satisfied: typing-extensions>=4.2.0 in c:\\users\\lenovo\\anaconda3\\lib\\site-packages (from pydantic!=1.8,!=1.8.1,<1.11.0,>=1.7.4->spacy) (4.4.0)\n",
      "Requirement already satisfied: charset-normalizer<4,>=2 in c:\\users\\lenovo\\anaconda3\\lib\\site-packages (from requests<3.0.0,>=2.13.0->spacy) (2.0.4)\n",
      "Requirement already satisfied: idna<4,>=2.5 in c:\\users\\lenovo\\anaconda3\\lib\\site-packages (from requests<3.0.0,>=2.13.0->spacy) (2.7)\n",
      "Requirement already satisfied: urllib3<3,>=1.21.1 in c:\\users\\lenovo\\anaconda3\\lib\\site-packages (from requests<3.0.0,>=2.13.0->spacy) (1.24.3)\n",
      "Requirement already satisfied: certifi>=2017.4.17 in c:\\users\\lenovo\\anaconda3\\lib\\site-packages (from requests<3.0.0,>=2.13.0->spacy) (2022.12.7)\n",
      "Collecting confection<1.0.0,>=0.0.1\n",
      "  Downloading confection-0.0.4-py3-none-any.whl (32 kB)\n",
      "Collecting blis<0.8.0,>=0.7.8\n",
      "  Downloading blis-0.7.9-cp310-cp310-win_amd64.whl (7.0 MB)\n",
      "     ---------------------------------------- 7.0/7.0 MB 4.3 MB/s eta 0:00:00\n",
      "Requirement already satisfied: colorama in c:\\users\\lenovo\\anaconda3\\lib\\site-packages (from tqdm<5.0.0,>=4.38.0->spacy) (0.4.6)\n",
      "Requirement already satisfied: click<9.0.0,>=7.1.1 in c:\\users\\lenovo\\anaconda3\\lib\\site-packages (from typer<0.8.0,>=0.3.0->spacy) (8.0.4)\n",
      "Requirement already satisfied: MarkupSafe>=2.0 in c:\\users\\lenovo\\anaconda3\\lib\\site-packages (from jinja2->spacy) (2.1.1)\n",
      "Installing collected packages: cymem, wasabi, spacy-loggers, spacy-legacy, pydantic, murmurhash, langcodes, catalogue, blis, typer, srsly, preshed, pathy, confection, thinc, spacy\n",
      "Successfully installed blis-0.7.9 catalogue-2.0.8 confection-0.0.4 cymem-2.0.7 langcodes-3.3.0 murmurhash-1.0.9 pathy-0.10.1 preshed-3.0.8 pydantic-1.10.7 spacy-3.5.3 spacy-legacy-3.0.12 spacy-loggers-1.0.4 srsly-2.4.6 thinc-8.1.10 typer-0.7.0 wasabi-1.1.1\n",
      "Note: you may need to restart the kernel to use updated packages.\n"
     ]
    }
   ],
   "source": [
    "pip install spacy"
   ]
  },
  {
   "cell_type": "code",
   "execution_count": null,
   "id": "f57df7d2",
   "metadata": {},
   "outputs": [],
   "source": [
    "# Data ingestion"
   ]
  },
  {
   "cell_type": "code",
   "execution_count": 2,
   "id": "1e3587a2",
   "metadata": {},
   "outputs": [
    {
     "data": {
      "text/html": [
       "<div>\n",
       "<style scoped>\n",
       "    .dataframe tbody tr th:only-of-type {\n",
       "        vertical-align: middle;\n",
       "    }\n",
       "\n",
       "    .dataframe tbody tr th {\n",
       "        vertical-align: top;\n",
       "    }\n",
       "\n",
       "    .dataframe thead th {\n",
       "        text-align: right;\n",
       "    }\n",
       "</style>\n",
       "<table border=\"1\" class=\"dataframe\">\n",
       "  <thead>\n",
       "    <tr style=\"text-align: right;\">\n",
       "      <th></th>\n",
       "      <th>S.No</th>\n",
       "      <th>USERNAME</th>\n",
       "      <th>Caption</th>\n",
       "      <th>Followers</th>\n",
       "      <th>Hashtags</th>\n",
       "      <th>Time since posted</th>\n",
       "      <th>Likes</th>\n",
       "    </tr>\n",
       "  </thead>\n",
       "  <tbody>\n",
       "    <tr>\n",
       "      <th>0</th>\n",
       "      <td>1</td>\n",
       "      <td>mikequindazzi</td>\n",
       "      <td>Who are #DataScientist and what do they do? &gt;&gt;...</td>\n",
       "      <td>1600</td>\n",
       "      <td>#MachineLearning #AI #DataAnalytics #DataScien...</td>\n",
       "      <td>11 hours</td>\n",
       "      <td>139</td>\n",
       "    </tr>\n",
       "    <tr>\n",
       "      <th>1</th>\n",
       "      <td>2</td>\n",
       "      <td>drgorillapaints</td>\n",
       "      <td>We all know where it’s going. We just have to ...</td>\n",
       "      <td>880</td>\n",
       "      <td>#deck .#mac #macintosh#sayhello #apple #steve...</td>\n",
       "      <td>2 hours</td>\n",
       "      <td>23</td>\n",
       "    </tr>\n",
       "    <tr>\n",
       "      <th>2</th>\n",
       "      <td>3</td>\n",
       "      <td>aitrading_official</td>\n",
       "      <td>Alexander Barinov: 4 years as CFO in multinati...</td>\n",
       "      <td>255</td>\n",
       "      <td>#whoiswho #aitrading #ai #aitradingteam#instat...</td>\n",
       "      <td>2 hours</td>\n",
       "      <td>25</td>\n",
       "    </tr>\n",
       "    <tr>\n",
       "      <th>3</th>\n",
       "      <td>4</td>\n",
       "      <td>opensourcedworkplace</td>\n",
       "      <td>sfad</td>\n",
       "      <td>340</td>\n",
       "      <td>#iot #cre#workplace #CDO #bigdata #technology#...</td>\n",
       "      <td>3 hours</td>\n",
       "      <td>49</td>\n",
       "    </tr>\n",
       "    <tr>\n",
       "      <th>4</th>\n",
       "      <td>5</td>\n",
       "      <td>crea.vision</td>\n",
       "      <td>Ever missed a call while your phone was chargi...</td>\n",
       "      <td>304</td>\n",
       "      <td>#instamachinelearning #instabigdata#instamarke...</td>\n",
       "      <td>3 hours</td>\n",
       "      <td>30</td>\n",
       "    </tr>\n",
       "  </tbody>\n",
       "</table>\n",
       "</div>"
      ],
      "text/plain": [
       "   S.No              USERNAME  \\\n",
       "0     1         mikequindazzi   \n",
       "1     2       drgorillapaints   \n",
       "2     3    aitrading_official   \n",
       "3     4  opensourcedworkplace   \n",
       "4     5           crea.vision   \n",
       "\n",
       "                                             Caption  Followers  \\\n",
       "0  Who are #DataScientist and what do they do? >>...       1600   \n",
       "1  We all know where it’s going. We just have to ...        880   \n",
       "2  Alexander Barinov: 4 years as CFO in multinati...        255   \n",
       "3                                               sfad        340   \n",
       "4  Ever missed a call while your phone was chargi...        304   \n",
       "\n",
       "                                            Hashtags Time since posted  Likes  \n",
       "0  #MachineLearning #AI #DataAnalytics #DataScien...          11 hours    139  \n",
       "1   #deck .#mac #macintosh#sayhello #apple #steve...           2 hours     23  \n",
       "2  #whoiswho #aitrading #ai #aitradingteam#instat...           2 hours     25  \n",
       "3  #iot #cre#workplace #CDO #bigdata #technology#...           3 hours     49  \n",
       "4  #instamachinelearning #instabigdata#instamarke...           3 hours     30  "
      ]
     },
     "execution_count": 2,
     "metadata": {},
     "output_type": "execute_result"
    }
   ],
   "source": [
    "file_path = \"instagram_reach.csv\"\n",
    "df = pd.read_csv(file_path)\n",
    "df.drop(\"Unnamed: 0\", axis=1, inplace=True)\n",
    "df.head()"
   ]
  },
  {
   "cell_type": "markdown",
   "id": "a436e8e4",
   "metadata": {},
   "source": [
    "Basic Analysis"
   ]
  },
  {
   "cell_type": "code",
   "execution_count": 3,
   "id": "86e42d24",
   "metadata": {},
   "outputs": [
    {
     "data": {
      "text/plain": [
       "(100, 7)"
      ]
     },
     "execution_count": 3,
     "metadata": {},
     "output_type": "execute_result"
    }
   ],
   "source": [
    "df.shape"
   ]
  },
  {
   "cell_type": "code",
   "execution_count": 5,
   "id": "5cc32a60",
   "metadata": {},
   "outputs": [
    {
     "name": "stdout",
     "output_type": "stream",
     "text": [
      "<class 'pandas.core.frame.DataFrame'>\n",
      "RangeIndex: 100 entries, 0 to 99\n",
      "Data columns (total 7 columns):\n",
      " #   Column             Non-Null Count  Dtype \n",
      "---  ------             --------------  ----- \n",
      " 0   S.No               100 non-null    int64 \n",
      " 1   USERNAME           100 non-null    object\n",
      " 2   Caption            94 non-null     object\n",
      " 3   Followers          100 non-null    int64 \n",
      " 4   Hashtags           100 non-null    object\n",
      " 5   Time since posted  100 non-null    object\n",
      " 6   Likes              100 non-null    int64 \n",
      "dtypes: int64(3), object(4)\n",
      "memory usage: 5.6+ KB\n"
     ]
    }
   ],
   "source": [
    "df.info()"
   ]
  },
  {
   "cell_type": "markdown",
   "id": "570fc716",
   "metadata": {},
   "source": [
    "\n",
    "Observations:\n",
    "\n",
    "S.No has no use can be dropped.\n",
    "Username, caption, hastags are three columns containing text data.\n",
    "Time since posted column can be converted to numerical values easily.\n",
    "Time since posted and Likes columns are the target features.\n",
    "Each users has specific number of followers and the number of likes directly depend on the number of followers. So we can drop the username column also."
   ]
  },
  {
   "cell_type": "code",
   "execution_count": 6,
   "id": "a59bb18f",
   "metadata": {},
   "outputs": [
    {
     "data": {
      "text/plain": [
       "95"
      ]
     },
     "execution_count": 6,
     "metadata": {},
     "output_type": "execute_result"
    }
   ],
   "source": [
    "#Username\n",
    "\n",
    "len(df.USERNAME.unique())"
   ]
  },
  {
   "cell_type": "markdown",
   "id": "314c5933",
   "metadata": {},
   "source": [
    "Out of 100 rows in the dataset, there are 95 different usenames.\n",
    "\n",
    "\n",
    "So, One-hot encoding is not a considerable option here because it will lead to 95 new features.\n",
    "\n",
    "On the other hand, we have a numeric feature called \"followers\" which is directly associated with the usenames in the dataset.\n",
    "\n",
    "\n",
    "conclusion: drop the \"USERNAME\" and \"S, No\" columns."
   ]
  },
  {
   "cell_type": "code",
   "execution_count": 7,
   "id": "c82dce34",
   "metadata": {},
   "outputs": [
    {
     "data": {
      "text/html": [
       "<div>\n",
       "<style scoped>\n",
       "    .dataframe tbody tr th:only-of-type {\n",
       "        vertical-align: middle;\n",
       "    }\n",
       "\n",
       "    .dataframe tbody tr th {\n",
       "        vertical-align: top;\n",
       "    }\n",
       "\n",
       "    .dataframe thead th {\n",
       "        text-align: right;\n",
       "    }\n",
       "</style>\n",
       "<table border=\"1\" class=\"dataframe\">\n",
       "  <thead>\n",
       "    <tr style=\"text-align: right;\">\n",
       "      <th></th>\n",
       "      <th>Caption</th>\n",
       "      <th>Followers</th>\n",
       "      <th>Hashtags</th>\n",
       "      <th>Time since posted</th>\n",
       "      <th>Likes</th>\n",
       "    </tr>\n",
       "  </thead>\n",
       "  <tbody>\n",
       "    <tr>\n",
       "      <th>0</th>\n",
       "      <td>Who are #DataScientist and what do they do? &gt;&gt;...</td>\n",
       "      <td>1600</td>\n",
       "      <td>#MachineLearning #AI #DataAnalytics #DataScien...</td>\n",
       "      <td>11 hours</td>\n",
       "      <td>139</td>\n",
       "    </tr>\n",
       "    <tr>\n",
       "      <th>1</th>\n",
       "      <td>We all know where it’s going. We just have to ...</td>\n",
       "      <td>880</td>\n",
       "      <td>#deck .#mac #macintosh#sayhello #apple #steve...</td>\n",
       "      <td>2 hours</td>\n",
       "      <td>23</td>\n",
       "    </tr>\n",
       "    <tr>\n",
       "      <th>2</th>\n",
       "      <td>Alexander Barinov: 4 years as CFO in multinati...</td>\n",
       "      <td>255</td>\n",
       "      <td>#whoiswho #aitrading #ai #aitradingteam#instat...</td>\n",
       "      <td>2 hours</td>\n",
       "      <td>25</td>\n",
       "    </tr>\n",
       "  </tbody>\n",
       "</table>\n",
       "</div>"
      ],
      "text/plain": [
       "                                             Caption  Followers  \\\n",
       "0  Who are #DataScientist and what do they do? >>...       1600   \n",
       "1  We all know where it’s going. We just have to ...        880   \n",
       "2  Alexander Barinov: 4 years as CFO in multinati...        255   \n",
       "\n",
       "                                            Hashtags Time since posted  Likes  \n",
       "0  #MachineLearning #AI #DataAnalytics #DataScien...          11 hours    139  \n",
       "1   #deck .#mac #macintosh#sayhello #apple #steve...           2 hours     23  \n",
       "2  #whoiswho #aitrading #ai #aitradingteam#instat...           2 hours     25  "
      ]
     },
     "execution_count": 7,
     "metadata": {},
     "output_type": "execute_result"
    }
   ],
   "source": [
    "# Drop USERNAME and S.No column\n",
    "\n",
    "df.drop(['S.No', 'USERNAME'], axis=1, inplace=True)\n",
    "\n",
    "df.head(3)"
   ]
  },
  {
   "cell_type": "code",
   "execution_count": 8,
   "id": "b8e4c6a9",
   "metadata": {},
   "outputs": [
    {
     "data": {
      "text/plain": [
       "array(['11 hours', '2 hours', '3 hours', '4 hours', '7 hours', '8 hours',\n",
       "       '9 hours', '5 hours', '20 hours', '14 hours', '24 hours'],\n",
       "      dtype=object)"
      ]
     },
     "execution_count": 8,
     "metadata": {},
     "output_type": "execute_result"
    }
   ],
   "source": [
    "# Time since posted\n",
    "df['Time since posted'].unique()"
   ]
  },
  {
   "cell_type": "code",
   "execution_count": 9,
   "id": "466fa0d0",
   "metadata": {},
   "outputs": [
    {
     "data": {
      "text/plain": [
       "0"
      ]
     },
     "execution_count": 9,
     "metadata": {},
     "output_type": "execute_result"
    }
   ],
   "source": [
    "df['Time since posted'].isna().sum()"
   ]
  },
  {
   "cell_type": "code",
   "execution_count": 10,
   "id": "bb112939",
   "metadata": {},
   "outputs": [
    {
     "data": {
      "text/plain": [
       "dtype('O')"
      ]
     },
     "execution_count": 10,
     "metadata": {},
     "output_type": "execute_result"
    }
   ],
   "source": [
    "df['Time since posted'].dtype"
   ]
  },
  {
   "cell_type": "markdown",
   "id": "5f1ebd93",
   "metadata": {},
   "source": [
    "'Time since posted' is one of our target features.\n",
    "There are no missing values.\n",
    "Data type is 'Object'\n",
    "We need to convert the data type to integer."
   ]
  },
  {
   "cell_type": "code",
   "execution_count": 11,
   "id": "0ffa4cd4",
   "metadata": {},
   "outputs": [
    {
     "data": {
      "text/plain": [
       "dtype('int64')"
      ]
     },
     "execution_count": 11,
     "metadata": {},
     "output_type": "execute_result"
    }
   ],
   "source": [
    "# Converting 'Time since posted' column to integer type\n",
    "\n",
    "df['Time since posted'] = df['Time since posted'].apply(lambda x: int(x.split()[0]))\n",
    "\n",
    "df['Time since posted'].dtype"
   ]
  },
  {
   "cell_type": "code",
   "execution_count": 12,
   "id": "f8f9390c",
   "metadata": {},
   "outputs": [
    {
     "data": {
      "text/plain": [
       "array([11,  2,  3,  4,  7,  8,  9,  5, 20, 14, 24], dtype=int64)"
      ]
     },
     "execution_count": 12,
     "metadata": {},
     "output_type": "execute_result"
    }
   ],
   "source": [
    "df['Time since posted'].unique()"
   ]
  },
  {
   "cell_type": "code",
   "execution_count": 13,
   "id": "bebd7598",
   "metadata": {},
   "outputs": [
    {
     "name": "stdout",
     "output_type": "stream",
     "text": [
      "[2, 3, 3, 3, 3, 3, 3, 4, 5, 7, 12, 19, 21, 21, 21, 26, 26, 28, 28, 29, 31, 31, 32, 38, 38, 41, 42, 44, 45, 51, 55, 56, 56, 57, 63, 65, 70, 70, 72, 73, 74, 75, 79, 90, 93, 94, 95, 104, 110, 112, 113, 114, 116, 118, 119, 124, 125, 128, 131, 137, 144, 145, 149, 153, 155, 159, 166, 172, 175, 177, 180, 195, 196, 204, 204, 214, 217, 218, 222, 226, 233, 248, 255, 259, 260, 261, 270, 273, 322, 325, 348, 353, 369, 373, 390, 422, 454, 457, 459, 704]\n"
     ]
    }
   ],
   "source": [
    "# Caption\n",
    " # list of length of each caption text\n",
    "print(sorted([len(str(cap)) for cap in df['Caption'].values]))"
   ]
  },
  {
   "cell_type": "code",
   "execution_count": 14,
   "id": "908716ec",
   "metadata": {},
   "outputs": [
    {
     "data": {
      "text/plain": [
       "(88, 5)"
      ]
     },
     "execution_count": 14,
     "metadata": {},
     "output_type": "execute_result"
    }
   ],
   "source": [
    "df = df[df['Caption'].str.len() >= 20]\n",
    "df.shape"
   ]
  },
  {
   "cell_type": "code",
   "execution_count": 15,
   "id": "373c0aad",
   "metadata": {},
   "outputs": [
    {
     "data": {
      "text/plain": [
       "'Who are #DataScientist and what do they do? >> @MikeQuindazzi >> #MachineLearning #AI #DataAnalytics #DataScienc #DataLake >> https://buff.ly/2kYmF0s'"
      ]
     },
     "execution_count": 15,
     "metadata": {},
     "output_type": "execute_result"
    }
   ],
   "source": [
    "\n",
    "df['Caption'][0]"
   ]
  },
  {
   "cell_type": "code",
   "execution_count": 16,
   "id": "4a642ead",
   "metadata": {},
   "outputs": [],
   "source": [
    "# Helper function to clean caption text\n",
    "def clean_caption(text):\n",
    "    if isinstance(text, str): # to avoid TypeError\n",
    "        # Remove URLs\n",
    "        text = re.sub(r'http\\S+|www\\S+|https\\S+', '', text)\n",
    "        \n",
    "        # Remove emojis and symbols\n",
    "        text = re.sub(r'[^\\w\\s]', '', text)\n",
    "        \n",
    "        # Remove extra whitespaces\n",
    "        text = re.sub(r'\\s+', ' ', text).strip()\n",
    "    \n",
    "    return text\n",
    "\n",
    "# tokenizer function\n",
    "def tokenizer(text):\n",
    "    text = str(text)\n",
    "\n",
    "    # Tokenize the text\n",
    "    tokens = word_tokenize(text)\n",
    "\n",
    "    return tokens"
   ]
  },
  {
   "cell_type": "code",
   "execution_count": 19,
   "id": "680cb951",
   "metadata": {},
   "outputs": [
    {
     "data": {
      "text/plain": [
       "0     Who are DataScientist and what do they do Mike...\n",
       "1     We all know where its going We just have to wo...\n",
       "2     Alexander Barinov 4 years as CFO in multinatio...\n",
       "4     Ever missed a call while your phone was chargi...\n",
       "5     Cyber attacks are more frequent every day and ...\n",
       "                            ...                        \n",
       "95    328 S Wetherly Drive Beverly Hills CA 90212 Th...\n",
       "96    Credit tristankappel To find more dvlp follow ...\n",
       "97    We are coming up with the Best 21 Books that w...\n",
       "98    Were only paid to move dirt once Its not just ...\n",
       "99                       Obtén tu tienda en línea ahora\n",
       "Name: Caption, Length: 88, dtype: object"
      ]
     },
     "execution_count": 19,
     "metadata": {},
     "output_type": "execute_result"
    }
   ],
   "source": [
    "# cleaning texts in caption column\n",
    "df['Caption'] = df['Caption'].apply(clean_caption)\n",
    "\n",
    "df['Caption']"
   ]
  },
  {
   "cell_type": "code",
   "execution_count": 25,
   "id": "004b989f",
   "metadata": {},
   "outputs": [],
   "source": [
    "import gensim\n",
    "\n"
   ]
  },
  {
   "cell_type": "code",
   "execution_count": 34,
   "id": "a684a876",
   "metadata": {},
   "outputs": [],
   "source": [
    "# Download word2vec pre-trained vectors published by Google\n",
    "# Download link: https://drive.google.com/file/d/0B7XkCwpI5KDYNlNUTTlSS21pQmM/edit?resourcekey=0-wjGZdNAUop6WykTtMip30g\n",
    "\n",
    "# Load pre-trained Word2Vec model\n",
    "from gensim.models import KeyedVectors\n",
    "from gensim import models\n",
    "\n",
    "\n",
    "word2vec_model = gensim.models.KeyedVectors.load_word2vec_format('GoogleNews-vectors-negative300.bin', binary=True)\n",
    "\n",
    "# Function to perform word embedding\n",
    "def embed_caption(tokens):\n",
    "    embeddings = [word2vec_model[word.lower()] for word in tokens if word.lower() in word2vec_model]\n",
    "    return embeddings"
   ]
  },
  {
   "cell_type": "code",
   "execution_count": 35,
   "id": "4e1cbdd9",
   "metadata": {},
   "outputs": [],
   "source": [
    "\n",
    "# Apply word embedding to the 'caption' column\n",
    "df['caption_embedding'] = df['Caption'].apply(embed_caption)\n"
   ]
  },
  {
   "cell_type": "code",
   "execution_count": 36,
   "id": "cc493a5a",
   "metadata": {},
   "outputs": [
    {
     "data": {
      "text/html": [
       "<div>\n",
       "<style scoped>\n",
       "    .dataframe tbody tr th:only-of-type {\n",
       "        vertical-align: middle;\n",
       "    }\n",
       "\n",
       "    .dataframe tbody tr th {\n",
       "        vertical-align: top;\n",
       "    }\n",
       "\n",
       "    .dataframe thead th {\n",
       "        text-align: right;\n",
       "    }\n",
       "</style>\n",
       "<table border=\"1\" class=\"dataframe\">\n",
       "  <thead>\n",
       "    <tr style=\"text-align: right;\">\n",
       "      <th></th>\n",
       "      <th>Caption</th>\n",
       "      <th>caption_embedding</th>\n",
       "    </tr>\n",
       "  </thead>\n",
       "  <tbody>\n",
       "    <tr>\n",
       "      <th>0</th>\n",
       "      <td>Who are #DataScientist and what do they do? &gt;&gt;...</td>\n",
       "      <td>[[-0.23339844, 0.061523438, -0.3046875, 0.2246...</td>\n",
       "    </tr>\n",
       "    <tr>\n",
       "      <th>1</th>\n",
       "      <td>We all know where it’s going. We just have to ...</td>\n",
       "      <td>[[-0.23339844, 0.061523438, -0.3046875, 0.2246...</td>\n",
       "    </tr>\n",
       "    <tr>\n",
       "      <th>2</th>\n",
       "      <td>Alexander Barinov: 4 years as CFO in multinati...</td>\n",
       "      <td>[[-0.02722168, 0.23046875, -0.061767578, -0.06...</td>\n",
       "    </tr>\n",
       "    <tr>\n",
       "      <th>4</th>\n",
       "      <td>Ever missed a call while your phone was chargi...</td>\n",
       "      <td>[[-0.06933594, 0.15332031, -0.024902344, 0.172...</td>\n",
       "    </tr>\n",
       "    <tr>\n",
       "      <th>5</th>\n",
       "      <td>Cyber attacks are more frequent every day and ...</td>\n",
       "      <td>[[-0.20800781, 0.034179688, 0.025756836, 0.179...</td>\n",
       "    </tr>\n",
       "    <tr>\n",
       "      <th>...</th>\n",
       "      <td>...</td>\n",
       "      <td>...</td>\n",
       "    </tr>\n",
       "    <tr>\n",
       "      <th>95</th>\n",
       "      <td>328 S. Wetherly Drive, Beverly Hills, CA 90212...</td>\n",
       "      <td>[[0.114746094, -0.083496094, 0.033691406, 0.10...</td>\n",
       "    </tr>\n",
       "    <tr>\n",
       "      <th>96</th>\n",
       "      <td>Credit @tristankappel To find more dvlp follow...</td>\n",
       "      <td>[[-0.20800781, 0.034179688, 0.025756836, 0.179...</td>\n",
       "    </tr>\n",
       "    <tr>\n",
       "      <th>97</th>\n",
       "      <td>We are coming up with the Best 21 Books that w...</td>\n",
       "      <td>[[-0.23339844, 0.061523438, -0.3046875, 0.2246...</td>\n",
       "    </tr>\n",
       "    <tr>\n",
       "      <th>98</th>\n",
       "      <td>We’re only paid to move dirt once. It’s not ju...</td>\n",
       "      <td>[[-0.23339844, 0.061523438, -0.3046875, 0.2246...</td>\n",
       "    </tr>\n",
       "    <tr>\n",
       "      <th>99</th>\n",
       "      <td>Obtén tu tienda en línea ahora.</td>\n",
       "      <td>[[-0.1640625, 0.08203125, 0.028198242, 0.10644...</td>\n",
       "    </tr>\n",
       "  </tbody>\n",
       "</table>\n",
       "<p>88 rows × 2 columns</p>\n",
       "</div>"
      ],
      "text/plain": [
       "                                              Caption  \\\n",
       "0   Who are #DataScientist and what do they do? >>...   \n",
       "1   We all know where it’s going. We just have to ...   \n",
       "2   Alexander Barinov: 4 years as CFO in multinati...   \n",
       "4   Ever missed a call while your phone was chargi...   \n",
       "5   Cyber attacks are more frequent every day and ...   \n",
       "..                                                ...   \n",
       "95  328 S. Wetherly Drive, Beverly Hills, CA 90212...   \n",
       "96  Credit @tristankappel To find more dvlp follow...   \n",
       "97  We are coming up with the Best 21 Books that w...   \n",
       "98  We’re only paid to move dirt once. It’s not ju...   \n",
       "99                    Obtén tu tienda en línea ahora.   \n",
       "\n",
       "                                    caption_embedding  \n",
       "0   [[-0.23339844, 0.061523438, -0.3046875, 0.2246...  \n",
       "1   [[-0.23339844, 0.061523438, -0.3046875, 0.2246...  \n",
       "2   [[-0.02722168, 0.23046875, -0.061767578, -0.06...  \n",
       "4   [[-0.06933594, 0.15332031, -0.024902344, 0.172...  \n",
       "5   [[-0.20800781, 0.034179688, 0.025756836, 0.179...  \n",
       "..                                                ...  \n",
       "95  [[0.114746094, -0.083496094, 0.033691406, 0.10...  \n",
       "96  [[-0.20800781, 0.034179688, 0.025756836, 0.179...  \n",
       "97  [[-0.23339844, 0.061523438, -0.3046875, 0.2246...  \n",
       "98  [[-0.23339844, 0.061523438, -0.3046875, 0.2246...  \n",
       "99  [[-0.1640625, 0.08203125, 0.028198242, 0.10644...  \n",
       "\n",
       "[88 rows x 2 columns]"
      ]
     },
     "execution_count": 36,
     "metadata": {},
     "output_type": "execute_result"
    }
   ],
   "source": [
    "df[['Caption','caption_embedding']]"
   ]
  },
  {
   "cell_type": "code",
   "execution_count": 37,
   "id": "63667c92",
   "metadata": {},
   "outputs": [
    {
     "data": {
      "text/html": [
       "<div>\n",
       "<style scoped>\n",
       "    .dataframe tbody tr th:only-of-type {\n",
       "        vertical-align: middle;\n",
       "    }\n",
       "\n",
       "    .dataframe tbody tr th {\n",
       "        vertical-align: top;\n",
       "    }\n",
       "\n",
       "    .dataframe thead th {\n",
       "        text-align: right;\n",
       "    }\n",
       "</style>\n",
       "<table border=\"1\" class=\"dataframe\">\n",
       "  <thead>\n",
       "    <tr style=\"text-align: right;\">\n",
       "      <th></th>\n",
       "      <th>Caption</th>\n",
       "      <th>caption_embedding</th>\n",
       "      <th>caption_embedding_flat</th>\n",
       "    </tr>\n",
       "  </thead>\n",
       "  <tbody>\n",
       "    <tr>\n",
       "      <th>0</th>\n",
       "      <td>Who are #DataScientist and what do they do? &gt;&gt;...</td>\n",
       "      <td>[[-0.23339844, 0.061523438, -0.3046875, 0.2246...</td>\n",
       "      <td>[-0.23339844, 0.061523438, -0.3046875, 0.22460...</td>\n",
       "    </tr>\n",
       "    <tr>\n",
       "      <th>1</th>\n",
       "      <td>We all know where it’s going. We just have to ...</td>\n",
       "      <td>[[-0.23339844, 0.061523438, -0.3046875, 0.2246...</td>\n",
       "      <td>[-0.23339844, 0.061523438, -0.3046875, 0.22460...</td>\n",
       "    </tr>\n",
       "    <tr>\n",
       "      <th>2</th>\n",
       "      <td>Alexander Barinov: 4 years as CFO in multinati...</td>\n",
       "      <td>[[-0.02722168, 0.23046875, -0.061767578, -0.06...</td>\n",
       "      <td>[-0.02722168, 0.23046875, -0.061767578, -0.065...</td>\n",
       "    </tr>\n",
       "    <tr>\n",
       "      <th>4</th>\n",
       "      <td>Ever missed a call while your phone was chargi...</td>\n",
       "      <td>[[-0.06933594, 0.15332031, -0.024902344, 0.172...</td>\n",
       "      <td>[-0.06933594, 0.15332031, -0.024902344, 0.1728...</td>\n",
       "    </tr>\n",
       "    <tr>\n",
       "      <th>5</th>\n",
       "      <td>Cyber attacks are more frequent every day and ...</td>\n",
       "      <td>[[-0.20800781, 0.034179688, 0.025756836, 0.179...</td>\n",
       "      <td>[-0.20800781, 0.034179688, 0.025756836, 0.1796...</td>\n",
       "    </tr>\n",
       "    <tr>\n",
       "      <th>...</th>\n",
       "      <td>...</td>\n",
       "      <td>...</td>\n",
       "      <td>...</td>\n",
       "    </tr>\n",
       "    <tr>\n",
       "      <th>95</th>\n",
       "      <td>328 S. Wetherly Drive, Beverly Hills, CA 90212...</td>\n",
       "      <td>[[0.114746094, -0.083496094, 0.033691406, 0.10...</td>\n",
       "      <td>[0.114746094, -0.083496094, 0.033691406, 0.105...</td>\n",
       "    </tr>\n",
       "    <tr>\n",
       "      <th>96</th>\n",
       "      <td>Credit @tristankappel To find more dvlp follow...</td>\n",
       "      <td>[[-0.20800781, 0.034179688, 0.025756836, 0.179...</td>\n",
       "      <td>[-0.20800781, 0.034179688, 0.025756836, 0.1796...</td>\n",
       "    </tr>\n",
       "    <tr>\n",
       "      <th>97</th>\n",
       "      <td>We are coming up with the Best 21 Books that w...</td>\n",
       "      <td>[[-0.23339844, 0.061523438, -0.3046875, 0.2246...</td>\n",
       "      <td>[-0.23339844, 0.061523438, -0.3046875, 0.22460...</td>\n",
       "    </tr>\n",
       "    <tr>\n",
       "      <th>98</th>\n",
       "      <td>We’re only paid to move dirt once. It’s not ju...</td>\n",
       "      <td>[[-0.23339844, 0.061523438, -0.3046875, 0.2246...</td>\n",
       "      <td>[-0.23339844, 0.061523438, -0.3046875, 0.22460...</td>\n",
       "    </tr>\n",
       "    <tr>\n",
       "      <th>99</th>\n",
       "      <td>Obtén tu tienda en línea ahora.</td>\n",
       "      <td>[[-0.1640625, 0.08203125, 0.028198242, 0.10644...</td>\n",
       "      <td>[-0.1640625, 0.08203125, 0.028198242, 0.106445...</td>\n",
       "    </tr>\n",
       "  </tbody>\n",
       "</table>\n",
       "<p>88 rows × 3 columns</p>\n",
       "</div>"
      ],
      "text/plain": [
       "                                              Caption  \\\n",
       "0   Who are #DataScientist and what do they do? >>...   \n",
       "1   We all know where it’s going. We just have to ...   \n",
       "2   Alexander Barinov: 4 years as CFO in multinati...   \n",
       "4   Ever missed a call while your phone was chargi...   \n",
       "5   Cyber attacks are more frequent every day and ...   \n",
       "..                                                ...   \n",
       "95  328 S. Wetherly Drive, Beverly Hills, CA 90212...   \n",
       "96  Credit @tristankappel To find more dvlp follow...   \n",
       "97  We are coming up with the Best 21 Books that w...   \n",
       "98  We’re only paid to move dirt once. It’s not ju...   \n",
       "99                    Obtén tu tienda en línea ahora.   \n",
       "\n",
       "                                    caption_embedding  \\\n",
       "0   [[-0.23339844, 0.061523438, -0.3046875, 0.2246...   \n",
       "1   [[-0.23339844, 0.061523438, -0.3046875, 0.2246...   \n",
       "2   [[-0.02722168, 0.23046875, -0.061767578, -0.06...   \n",
       "4   [[-0.06933594, 0.15332031, -0.024902344, 0.172...   \n",
       "5   [[-0.20800781, 0.034179688, 0.025756836, 0.179...   \n",
       "..                                                ...   \n",
       "95  [[0.114746094, -0.083496094, 0.033691406, 0.10...   \n",
       "96  [[-0.20800781, 0.034179688, 0.025756836, 0.179...   \n",
       "97  [[-0.23339844, 0.061523438, -0.3046875, 0.2246...   \n",
       "98  [[-0.23339844, 0.061523438, -0.3046875, 0.2246...   \n",
       "99  [[-0.1640625, 0.08203125, 0.028198242, 0.10644...   \n",
       "\n",
       "                               caption_embedding_flat  \n",
       "0   [-0.23339844, 0.061523438, -0.3046875, 0.22460...  \n",
       "1   [-0.23339844, 0.061523438, -0.3046875, 0.22460...  \n",
       "2   [-0.02722168, 0.23046875, -0.061767578, -0.065...  \n",
       "4   [-0.06933594, 0.15332031, -0.024902344, 0.1728...  \n",
       "5   [-0.20800781, 0.034179688, 0.025756836, 0.1796...  \n",
       "..                                                ...  \n",
       "95  [0.114746094, -0.083496094, 0.033691406, 0.105...  \n",
       "96  [-0.20800781, 0.034179688, 0.025756836, 0.1796...  \n",
       "97  [-0.23339844, 0.061523438, -0.3046875, 0.22460...  \n",
       "98  [-0.23339844, 0.061523438, -0.3046875, 0.22460...  \n",
       "99  [-0.1640625, 0.08203125, 0.028198242, 0.106445...  \n",
       "\n",
       "[88 rows x 3 columns]"
      ]
     },
     "execution_count": 37,
     "metadata": {},
     "output_type": "execute_result"
    }
   ],
   "source": [
    "# Flatten the caption_embedding column\n",
    "df['caption_embedding_flat'] = df['caption_embedding'].apply(lambda x: np.array(x).flatten())\n",
    "\n",
    "df[['Caption','caption_embedding', 'caption_embedding_flat']]"
   ]
  },
  {
   "cell_type": "markdown",
   "id": "ec1cfb39",
   "metadata": {},
   "source": [
    "# Analysis of the Hashtags column"
   ]
  },
  {
   "cell_type": "code",
   "execution_count": 38,
   "id": "e289be99",
   "metadata": {},
   "outputs": [
    {
     "name": "stdout",
     "output_type": "stream",
     "text": [
      "[21, 23, 26, 27, 44, 48, 57, 59, 61, 65, 69, 78, 80, 93, 94, 97, 98, 99, 104, 109, 112, 114, 116, 118, 120, 123, 123, 128, 135, 148, 149, 151, 182, 187, 188, 191, 191, 193, 194, 196, 198, 201, 202, 204, 204, 214, 215, 222, 228, 229, 233, 249, 251, 254, 255, 260, 261, 266, 266, 271, 275, 278, 279, 281, 286, 294, 297, 301, 301, 301, 306, 306, 307, 310, 311, 318, 328, 329, 331, 332, 334, 340, 348, 351, 365, 377, 386, 388]\n"
     ]
    }
   ],
   "source": [
    "# list of length of each hashtags text\n",
    "print(sorted([len(str(cap)) for cap in df['Hashtags'].values]))"
   ]
  },
  {
   "cell_type": "code",
   "execution_count": 42,
   "id": "c611ce56",
   "metadata": {},
   "outputs": [],
   "source": [
    "import spacy\n",
    "# Load spaCy's English language model\n",
    "nlp = spacy.load('en_core_web_sm')\n",
    "\n",
    "def embed_hashtags(hashtags):\n",
    "    doc = nlp(hashtags)  # Tokenize and process the hashtag text\n",
    "    embeddings = [word2vec_model[word.text.lower()] for word in doc if word.text.lower() in word2vec_model]\n",
    "    return embeddings"
   ]
  },
  {
   "cell_type": "code",
   "execution_count": 43,
   "id": "dff88d95",
   "metadata": {},
   "outputs": [],
   "source": [
    "df['hashtags_embedding'] = df['Hashtags'].apply(embed_hashtags)"
   ]
  },
  {
   "cell_type": "code",
   "execution_count": 44,
   "id": "65399336",
   "metadata": {},
   "outputs": [
    {
     "data": {
      "text/html": [
       "<div>\n",
       "<style scoped>\n",
       "    .dataframe tbody tr th:only-of-type {\n",
       "        vertical-align: middle;\n",
       "    }\n",
       "\n",
       "    .dataframe tbody tr th {\n",
       "        vertical-align: top;\n",
       "    }\n",
       "\n",
       "    .dataframe thead th {\n",
       "        text-align: right;\n",
       "    }\n",
       "</style>\n",
       "<table border=\"1\" class=\"dataframe\">\n",
       "  <thead>\n",
       "    <tr style=\"text-align: right;\">\n",
       "      <th></th>\n",
       "      <th>Hashtags</th>\n",
       "      <th>hashtags_embedding</th>\n",
       "    </tr>\n",
       "  </thead>\n",
       "  <tbody>\n",
       "    <tr>\n",
       "      <th>0</th>\n",
       "      <td>#MachineLearning #AI #DataAnalytics #DataScien...</td>\n",
       "      <td>[[-0.033447266, -0.21972656, 0.01940918, 0.008...</td>\n",
       "    </tr>\n",
       "    <tr>\n",
       "      <th>1</th>\n",
       "      <td>#deck .#mac #macintosh#sayhello #apple #steve...</td>\n",
       "      <td>[[-0.033447266, -0.21972656, 0.01940918, 0.008...</td>\n",
       "    </tr>\n",
       "    <tr>\n",
       "      <th>2</th>\n",
       "      <td>#whoiswho #aitrading #ai #aitradingteam#instat...</td>\n",
       "      <td>[[-0.033447266, -0.21972656, 0.01940918, 0.008...</td>\n",
       "    </tr>\n",
       "    <tr>\n",
       "      <th>4</th>\n",
       "      <td>#instamachinelearning #instabigdata#instamarke...</td>\n",
       "      <td>[[-0.033447266, -0.21972656, 0.01940918, 0.008...</td>\n",
       "    </tr>\n",
       "    <tr>\n",
       "      <th>5</th>\n",
       "      <td>#edtech #learning#educationtechnology #tech #l...</td>\n",
       "      <td>[[-0.033447266, -0.21972656, 0.01940918, 0.008...</td>\n",
       "    </tr>\n",
       "    <tr>\n",
       "      <th>...</th>\n",
       "      <td>...</td>\n",
       "      <td>...</td>\n",
       "    </tr>\n",
       "    <tr>\n",
       "      <th>95</th>\n",
       "      <td>#beverlyhills #realestate#losangelesrealestate...</td>\n",
       "      <td>[[-0.033447266, -0.21972656, 0.01940918, 0.008...</td>\n",
       "    </tr>\n",
       "    <tr>\n",
       "      <th>96</th>\n",
       "      <td>#workspace #work #developer#development #devel...</td>\n",
       "      <td>[[-0.033447266, -0.21972656, 0.01940918, 0.008...</td>\n",
       "    </tr>\n",
       "    <tr>\n",
       "      <th>97</th>\n",
       "      <td>#books #book #motivation #inspiration #life#bo...</td>\n",
       "      <td>[[-0.033447266, -0.21972656, 0.01940918, 0.008...</td>\n",
       "    </tr>\n",
       "    <tr>\n",
       "      <th>98</th>\n",
       "      <td>#heavyequipment #underconstruction#dozer #real...</td>\n",
       "      <td>[[-0.033447266, -0.21972656, 0.01940918, 0.008...</td>\n",
       "    </tr>\n",
       "    <tr>\n",
       "      <th>99</th>\n",
       "      <td>#marketing #programming#development #desarroll...</td>\n",
       "      <td>[[-0.033447266, -0.21972656, 0.01940918, 0.008...</td>\n",
       "    </tr>\n",
       "  </tbody>\n",
       "</table>\n",
       "<p>88 rows × 2 columns</p>\n",
       "</div>"
      ],
      "text/plain": [
       "                                             Hashtags  \\\n",
       "0   #MachineLearning #AI #DataAnalytics #DataScien...   \n",
       "1    #deck .#mac #macintosh#sayhello #apple #steve...   \n",
       "2   #whoiswho #aitrading #ai #aitradingteam#instat...   \n",
       "4   #instamachinelearning #instabigdata#instamarke...   \n",
       "5   #edtech #learning#educationtechnology #tech #l...   \n",
       "..                                                ...   \n",
       "95  #beverlyhills #realestate#losangelesrealestate...   \n",
       "96  #workspace #work #developer#development #devel...   \n",
       "97  #books #book #motivation #inspiration #life#bo...   \n",
       "98  #heavyequipment #underconstruction#dozer #real...   \n",
       "99  #marketing #programming#development #desarroll...   \n",
       "\n",
       "                                   hashtags_embedding  \n",
       "0   [[-0.033447266, -0.21972656, 0.01940918, 0.008...  \n",
       "1   [[-0.033447266, -0.21972656, 0.01940918, 0.008...  \n",
       "2   [[-0.033447266, -0.21972656, 0.01940918, 0.008...  \n",
       "4   [[-0.033447266, -0.21972656, 0.01940918, 0.008...  \n",
       "5   [[-0.033447266, -0.21972656, 0.01940918, 0.008...  \n",
       "..                                                ...  \n",
       "95  [[-0.033447266, -0.21972656, 0.01940918, 0.008...  \n",
       "96  [[-0.033447266, -0.21972656, 0.01940918, 0.008...  \n",
       "97  [[-0.033447266, -0.21972656, 0.01940918, 0.008...  \n",
       "98  [[-0.033447266, -0.21972656, 0.01940918, 0.008...  \n",
       "99  [[-0.033447266, -0.21972656, 0.01940918, 0.008...  \n",
       "\n",
       "[88 rows x 2 columns]"
      ]
     },
     "execution_count": 44,
     "metadata": {},
     "output_type": "execute_result"
    }
   ],
   "source": [
    "df[['Hashtags', 'hashtags_embedding']]"
   ]
  },
  {
   "cell_type": "code",
   "execution_count": 45,
   "id": "24701883",
   "metadata": {},
   "outputs": [
    {
     "data": {
      "text/html": [
       "<div>\n",
       "<style scoped>\n",
       "    .dataframe tbody tr th:only-of-type {\n",
       "        vertical-align: middle;\n",
       "    }\n",
       "\n",
       "    .dataframe tbody tr th {\n",
       "        vertical-align: top;\n",
       "    }\n",
       "\n",
       "    .dataframe thead th {\n",
       "        text-align: right;\n",
       "    }\n",
       "</style>\n",
       "<table border=\"1\" class=\"dataframe\">\n",
       "  <thead>\n",
       "    <tr style=\"text-align: right;\">\n",
       "      <th></th>\n",
       "      <th>Hashtags</th>\n",
       "      <th>hashtags_embedding</th>\n",
       "      <th>hashtags_embedding_flat</th>\n",
       "    </tr>\n",
       "  </thead>\n",
       "  <tbody>\n",
       "    <tr>\n",
       "      <th>0</th>\n",
       "      <td>#MachineLearning #AI #DataAnalytics #DataScien...</td>\n",
       "      <td>[[-0.033447266, -0.21972656, 0.01940918, 0.008...</td>\n",
       "      <td>[-0.033447266, -0.21972656, 0.01940918, 0.0081...</td>\n",
       "    </tr>\n",
       "    <tr>\n",
       "      <th>1</th>\n",
       "      <td>#deck .#mac #macintosh#sayhello #apple #steve...</td>\n",
       "      <td>[[-0.033447266, -0.21972656, 0.01940918, 0.008...</td>\n",
       "      <td>[-0.033447266, -0.21972656, 0.01940918, 0.0081...</td>\n",
       "    </tr>\n",
       "    <tr>\n",
       "      <th>2</th>\n",
       "      <td>#whoiswho #aitrading #ai #aitradingteam#instat...</td>\n",
       "      <td>[[-0.033447266, -0.21972656, 0.01940918, 0.008...</td>\n",
       "      <td>[-0.033447266, -0.21972656, 0.01940918, 0.0081...</td>\n",
       "    </tr>\n",
       "    <tr>\n",
       "      <th>4</th>\n",
       "      <td>#instamachinelearning #instabigdata#instamarke...</td>\n",
       "      <td>[[-0.033447266, -0.21972656, 0.01940918, 0.008...</td>\n",
       "      <td>[-0.033447266, -0.21972656, 0.01940918, 0.0081...</td>\n",
       "    </tr>\n",
       "    <tr>\n",
       "      <th>5</th>\n",
       "      <td>#edtech #learning#educationtechnology #tech #l...</td>\n",
       "      <td>[[-0.033447266, -0.21972656, 0.01940918, 0.008...</td>\n",
       "      <td>[-0.033447266, -0.21972656, 0.01940918, 0.0081...</td>\n",
       "    </tr>\n",
       "    <tr>\n",
       "      <th>...</th>\n",
       "      <td>...</td>\n",
       "      <td>...</td>\n",
       "      <td>...</td>\n",
       "    </tr>\n",
       "    <tr>\n",
       "      <th>95</th>\n",
       "      <td>#beverlyhills #realestate#losangelesrealestate...</td>\n",
       "      <td>[[-0.033447266, -0.21972656, 0.01940918, 0.008...</td>\n",
       "      <td>[-0.033447266, -0.21972656, 0.01940918, 0.0081...</td>\n",
       "    </tr>\n",
       "    <tr>\n",
       "      <th>96</th>\n",
       "      <td>#workspace #work #developer#development #devel...</td>\n",
       "      <td>[[-0.033447266, -0.21972656, 0.01940918, 0.008...</td>\n",
       "      <td>[-0.033447266, -0.21972656, 0.01940918, 0.0081...</td>\n",
       "    </tr>\n",
       "    <tr>\n",
       "      <th>97</th>\n",
       "      <td>#books #book #motivation #inspiration #life#bo...</td>\n",
       "      <td>[[-0.033447266, -0.21972656, 0.01940918, 0.008...</td>\n",
       "      <td>[-0.033447266, -0.21972656, 0.01940918, 0.0081...</td>\n",
       "    </tr>\n",
       "    <tr>\n",
       "      <th>98</th>\n",
       "      <td>#heavyequipment #underconstruction#dozer #real...</td>\n",
       "      <td>[[-0.033447266, -0.21972656, 0.01940918, 0.008...</td>\n",
       "      <td>[-0.033447266, -0.21972656, 0.01940918, 0.0081...</td>\n",
       "    </tr>\n",
       "    <tr>\n",
       "      <th>99</th>\n",
       "      <td>#marketing #programming#development #desarroll...</td>\n",
       "      <td>[[-0.033447266, -0.21972656, 0.01940918, 0.008...</td>\n",
       "      <td>[-0.033447266, -0.21972656, 0.01940918, 0.0081...</td>\n",
       "    </tr>\n",
       "  </tbody>\n",
       "</table>\n",
       "<p>88 rows × 3 columns</p>\n",
       "</div>"
      ],
      "text/plain": [
       "                                             Hashtags  \\\n",
       "0   #MachineLearning #AI #DataAnalytics #DataScien...   \n",
       "1    #deck .#mac #macintosh#sayhello #apple #steve...   \n",
       "2   #whoiswho #aitrading #ai #aitradingteam#instat...   \n",
       "4   #instamachinelearning #instabigdata#instamarke...   \n",
       "5   #edtech #learning#educationtechnology #tech #l...   \n",
       "..                                                ...   \n",
       "95  #beverlyhills #realestate#losangelesrealestate...   \n",
       "96  #workspace #work #developer#development #devel...   \n",
       "97  #books #book #motivation #inspiration #life#bo...   \n",
       "98  #heavyequipment #underconstruction#dozer #real...   \n",
       "99  #marketing #programming#development #desarroll...   \n",
       "\n",
       "                                   hashtags_embedding  \\\n",
       "0   [[-0.033447266, -0.21972656, 0.01940918, 0.008...   \n",
       "1   [[-0.033447266, -0.21972656, 0.01940918, 0.008...   \n",
       "2   [[-0.033447266, -0.21972656, 0.01940918, 0.008...   \n",
       "4   [[-0.033447266, -0.21972656, 0.01940918, 0.008...   \n",
       "5   [[-0.033447266, -0.21972656, 0.01940918, 0.008...   \n",
       "..                                                ...   \n",
       "95  [[-0.033447266, -0.21972656, 0.01940918, 0.008...   \n",
       "96  [[-0.033447266, -0.21972656, 0.01940918, 0.008...   \n",
       "97  [[-0.033447266, -0.21972656, 0.01940918, 0.008...   \n",
       "98  [[-0.033447266, -0.21972656, 0.01940918, 0.008...   \n",
       "99  [[-0.033447266, -0.21972656, 0.01940918, 0.008...   \n",
       "\n",
       "                              hashtags_embedding_flat  \n",
       "0   [-0.033447266, -0.21972656, 0.01940918, 0.0081...  \n",
       "1   [-0.033447266, -0.21972656, 0.01940918, 0.0081...  \n",
       "2   [-0.033447266, -0.21972656, 0.01940918, 0.0081...  \n",
       "4   [-0.033447266, -0.21972656, 0.01940918, 0.0081...  \n",
       "5   [-0.033447266, -0.21972656, 0.01940918, 0.0081...  \n",
       "..                                                ...  \n",
       "95  [-0.033447266, -0.21972656, 0.01940918, 0.0081...  \n",
       "96  [-0.033447266, -0.21972656, 0.01940918, 0.0081...  \n",
       "97  [-0.033447266, -0.21972656, 0.01940918, 0.0081...  \n",
       "98  [-0.033447266, -0.21972656, 0.01940918, 0.0081...  \n",
       "99  [-0.033447266, -0.21972656, 0.01940918, 0.0081...  \n",
       "\n",
       "[88 rows x 3 columns]"
      ]
     },
     "execution_count": 45,
     "metadata": {},
     "output_type": "execute_result"
    }
   ],
   "source": [
    "# Flatten the hasgtags_embedding column\n",
    "df['hashtags_embedding_flat'] = df['hashtags_embedding'].apply(lambda x: np.array(x).flatten())\n",
    "\n",
    "df[['Hashtags', 'hashtags_embedding', 'hashtags_embedding_flat']]"
   ]
  },
  {
   "cell_type": "markdown",
   "id": "487039fc",
   "metadata": {},
   "source": [
    "### Training Data preperation"
   ]
  },
  {
   "cell_type": "code",
   "execution_count": null,
   "id": "ed4be538",
   "metadata": {},
   "outputs": [],
   "source": []
  },
  {
   "cell_type": "code",
   "execution_count": 46,
   "id": "d519e49d",
   "metadata": {},
   "outputs": [
    {
     "data": {
      "text/plain": [
       "Index(['Caption', 'Followers', 'Hashtags', 'Time since posted', 'Likes',\n",
       "       'caption_embedding', 'caption_embedding_flat', 'hashtags_embedding',\n",
       "       'hashtags_embedding_flat'],\n",
       "      dtype='object')"
      ]
     },
     "execution_count": 46,
     "metadata": {},
     "output_type": "execute_result"
    }
   ],
   "source": [
    "df.columns"
   ]
  },
  {
   "cell_type": "code",
   "execution_count": 47,
   "id": "ab708f22",
   "metadata": {},
   "outputs": [],
   "source": [
    "# Get the 'caption_embedding_flat' arrays from the DataFrame\n",
    "caption_embeddings = df['caption_embedding_flat'].values\n",
    "\n",
    "# Determine the minimum size along the second axis (dimension 1)\n",
    "min_size = min([len(arr) for arr in caption_embeddings])\n",
    "\n",
    "# Trim the 'caption_embedding_flat' arrays to have the same size\n",
    "caption_embeddings = [arr[:min_size] for arr in caption_embeddings]\n",
    "\n",
    "# Stack the trimmed arrays using np.vstack\n",
    "caption_embedding_flat = np.vstack(caption_embeddings)"
   ]
  },
  {
   "cell_type": "code",
   "execution_count": 49,
   "id": "9c2b7068",
   "metadata": {},
   "outputs": [],
   "source": [
    "# Get the 'hashtags_embedding_flat' arrays from the DataFrame\n",
    "hashtags_embeddings = df['hashtags_embedding_flat'].values\n",
    "\n",
    "# Determine the minimum size along the second axis (dimension 1)\n",
    "min_size = min([len(arr) for arr in hashtags_embeddings])\n",
    "\n",
    "# Trim the 'caption_embedding_flat' arrays to have the same size\n",
    "hashtags_embeddings = [arr[:min_size] for arr in hashtags_embeddings]\n",
    "\n",
    "# Stack the trimmed arrays using np.vstack\n",
    "hashtags_embedding_flat = np.vstack(hashtags_embeddings)"
   ]
  },
  {
   "cell_type": "code",
   "execution_count": 50,
   "id": "664b0821",
   "metadata": {},
   "outputs": [],
   "source": [
    "# Reshape the 'Followers' array to have 2 dimensions\n",
    "followers = df['Followers'].values.reshape(-1, 1)"
   ]
  },
  {
   "cell_type": "code",
   "execution_count": 52,
   "id": "6773dc8a",
   "metadata": {},
   "outputs": [],
   "source": [
    "\n",
    "# Convert embedded captions, followers, embedded hashtags, and target variables to numpy arrays\n",
    "# Combine input features into a single array\n",
    "X = np.hstack((caption_embedding_flat, hashtags_embedding_flat, followers))\n",
    "\n",
    "# Extract target variables\n",
    "y = df[['Time since posted', 'Likes']].values\n",
    "\n",
    "# Split the data into training and testing sets\n",
    "X_train, X_test, y_train, y_test = train_test_split(X, y, test_size=0.2, random_state=42)\n"
   ]
  },
  {
   "cell_type": "markdown",
   "id": "96ef2a6a",
   "metadata": {},
   "source": [
    "# model training"
   ]
  },
  {
   "cell_type": "code",
   "execution_count": 53,
   "id": "b7c7416d",
   "metadata": {},
   "outputs": [
    {
     "data": {
      "text/html": [
       "<style>#sk-container-id-1 {color: black;background-color: white;}#sk-container-id-1 pre{padding: 0;}#sk-container-id-1 div.sk-toggleable {background-color: white;}#sk-container-id-1 label.sk-toggleable__label {cursor: pointer;display: block;width: 100%;margin-bottom: 0;padding: 0.3em;box-sizing: border-box;text-align: center;}#sk-container-id-1 label.sk-toggleable__label-arrow:before {content: \"▸\";float: left;margin-right: 0.25em;color: #696969;}#sk-container-id-1 label.sk-toggleable__label-arrow:hover:before {color: black;}#sk-container-id-1 div.sk-estimator:hover label.sk-toggleable__label-arrow:before {color: black;}#sk-container-id-1 div.sk-toggleable__content {max-height: 0;max-width: 0;overflow: hidden;text-align: left;background-color: #f0f8ff;}#sk-container-id-1 div.sk-toggleable__content pre {margin: 0.2em;color: black;border-radius: 0.25em;background-color: #f0f8ff;}#sk-container-id-1 input.sk-toggleable__control:checked~div.sk-toggleable__content {max-height: 200px;max-width: 100%;overflow: auto;}#sk-container-id-1 input.sk-toggleable__control:checked~label.sk-toggleable__label-arrow:before {content: \"▾\";}#sk-container-id-1 div.sk-estimator input.sk-toggleable__control:checked~label.sk-toggleable__label {background-color: #d4ebff;}#sk-container-id-1 div.sk-label input.sk-toggleable__control:checked~label.sk-toggleable__label {background-color: #d4ebff;}#sk-container-id-1 input.sk-hidden--visually {border: 0;clip: rect(1px 1px 1px 1px);clip: rect(1px, 1px, 1px, 1px);height: 1px;margin: -1px;overflow: hidden;padding: 0;position: absolute;width: 1px;}#sk-container-id-1 div.sk-estimator {font-family: monospace;background-color: #f0f8ff;border: 1px dotted black;border-radius: 0.25em;box-sizing: border-box;margin-bottom: 0.5em;}#sk-container-id-1 div.sk-estimator:hover {background-color: #d4ebff;}#sk-container-id-1 div.sk-parallel-item::after {content: \"\";width: 100%;border-bottom: 1px solid gray;flex-grow: 1;}#sk-container-id-1 div.sk-label:hover label.sk-toggleable__label {background-color: #d4ebff;}#sk-container-id-1 div.sk-serial::before {content: \"\";position: absolute;border-left: 1px solid gray;box-sizing: border-box;top: 0;bottom: 0;left: 50%;z-index: 0;}#sk-container-id-1 div.sk-serial {display: flex;flex-direction: column;align-items: center;background-color: white;padding-right: 0.2em;padding-left: 0.2em;position: relative;}#sk-container-id-1 div.sk-item {position: relative;z-index: 1;}#sk-container-id-1 div.sk-parallel {display: flex;align-items: stretch;justify-content: center;background-color: white;position: relative;}#sk-container-id-1 div.sk-item::before, #sk-container-id-1 div.sk-parallel-item::before {content: \"\";position: absolute;border-left: 1px solid gray;box-sizing: border-box;top: 0;bottom: 0;left: 50%;z-index: -1;}#sk-container-id-1 div.sk-parallel-item {display: flex;flex-direction: column;z-index: 1;position: relative;background-color: white;}#sk-container-id-1 div.sk-parallel-item:first-child::after {align-self: flex-end;width: 50%;}#sk-container-id-1 div.sk-parallel-item:last-child::after {align-self: flex-start;width: 50%;}#sk-container-id-1 div.sk-parallel-item:only-child::after {width: 0;}#sk-container-id-1 div.sk-dashed-wrapped {border: 1px dashed gray;margin: 0 0.4em 0.5em 0.4em;box-sizing: border-box;padding-bottom: 0.4em;background-color: white;}#sk-container-id-1 div.sk-label label {font-family: monospace;font-weight: bold;display: inline-block;line-height: 1.2em;}#sk-container-id-1 div.sk-label-container {text-align: center;}#sk-container-id-1 div.sk-container {/* jupyter's `normalize.less` sets `[hidden] { display: none; }` but bootstrap.min.css set `[hidden] { display: none !important; }` so we also need the `!important` here to be able to override the default hidden behavior on the sphinx rendered scikit-learn.org. See: https://github.com/scikit-learn/scikit-learn/issues/21755 */display: inline-block !important;position: relative;}#sk-container-id-1 div.sk-text-repr-fallback {display: none;}</style><div id=\"sk-container-id-1\" class=\"sk-top-container\"><div class=\"sk-text-repr-fallback\"><pre>MultiOutputRegressor(estimator=LinearRegression())</pre><b>In a Jupyter environment, please rerun this cell to show the HTML representation or trust the notebook. <br />On GitHub, the HTML representation is unable to render, please try loading this page with nbviewer.org.</b></div><div class=\"sk-container\" hidden><div class=\"sk-item sk-dashed-wrapped\"><div class=\"sk-label-container\"><div class=\"sk-label sk-toggleable\"><input class=\"sk-toggleable__control sk-hidden--visually\" id=\"sk-estimator-id-1\" type=\"checkbox\" ><label for=\"sk-estimator-id-1\" class=\"sk-toggleable__label sk-toggleable__label-arrow\">MultiOutputRegressor</label><div class=\"sk-toggleable__content\"><pre>MultiOutputRegressor(estimator=LinearRegression())</pre></div></div></div><div class=\"sk-parallel\"><div class=\"sk-parallel-item\"><div class=\"sk-item\"><div class=\"sk-label-container\"><div class=\"sk-label sk-toggleable\"><input class=\"sk-toggleable__control sk-hidden--visually\" id=\"sk-estimator-id-2\" type=\"checkbox\" ><label for=\"sk-estimator-id-2\" class=\"sk-toggleable__label sk-toggleable__label-arrow\">estimator: LinearRegression</label><div class=\"sk-toggleable__content\"><pre>LinearRegression()</pre></div></div></div><div class=\"sk-serial\"><div class=\"sk-item\"><div class=\"sk-estimator sk-toggleable\"><input class=\"sk-toggleable__control sk-hidden--visually\" id=\"sk-estimator-id-3\" type=\"checkbox\" ><label for=\"sk-estimator-id-3\" class=\"sk-toggleable__label sk-toggleable__label-arrow\">LinearRegression</label><div class=\"sk-toggleable__content\"><pre>LinearRegression()</pre></div></div></div></div></div></div></div></div></div></div>"
      ],
      "text/plain": [
       "MultiOutputRegressor(estimator=LinearRegression())"
      ]
     },
     "execution_count": 53,
     "metadata": {},
     "output_type": "execute_result"
    }
   ],
   "source": [
    "# Create and train a linear regression model\n",
    "model = MultiOutputRegressor(LinearRegression())\n",
    "model.fit(X_train, y_train)"
   ]
  },
  {
   "cell_type": "code",
   "execution_count": 54,
   "id": "2d7e65b4",
   "metadata": {},
   "outputs": [
    {
     "name": "stdout",
     "output_type": "stream",
     "text": [
      "Root Mean Squared Error (RMSE): 56.000158077658774\n",
      "R-squared (R2) Score: -0.26314629063477646\n"
     ]
    }
   ],
   "source": [
    "# Evaluate the model\n",
    "y_pred = model.predict(X_test)\n",
    "test_score = model.score(X_test, y_test)\n",
    "\n",
    "# Calculate RMSE\n",
    "rmse = np.sqrt(mean_squared_error(y_test, y_pred))\n",
    "print(\"Root Mean Squared Error (RMSE):\", rmse)\n",
    "\n",
    "# Calculate R2 score\n",
    "r2 = r2_score(y_test, y_pred)\n",
    "print(\"R-squared (R2) Score:\", r2)"
   ]
  },
  {
   "cell_type": "code",
   "execution_count": null,
   "id": "76bb9196",
   "metadata": {},
   "outputs": [],
   "source": []
  }
 ],
 "metadata": {
  "kernelspec": {
   "display_name": "Python 3 (ipykernel)",
   "language": "python",
   "name": "python3"
  },
  "language_info": {
   "codemirror_mode": {
    "name": "ipython",
    "version": 3
   },
   "file_extension": ".py",
   "mimetype": "text/x-python",
   "name": "python",
   "nbconvert_exporter": "python",
   "pygments_lexer": "ipython3",
   "version": "3.10.9"
  }
 },
 "nbformat": 4,
 "nbformat_minor": 5
}
