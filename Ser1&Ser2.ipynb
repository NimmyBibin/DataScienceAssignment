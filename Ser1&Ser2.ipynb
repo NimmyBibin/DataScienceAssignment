{
 "cells": [
  {
   "cell_type": "markdown",
   "id": "70fbc447",
   "metadata": {},
   "source": [
    "\n",
    " How to get the items of series A not present in series B?\n",
    "\n",
    " input:\n",
    " ser1 = pd.Series([1, 2, 3, 4, 5]) \n",
    " \n",
    " ser2 = pd.Series([4, 5, 6, 7, 8])"
   ]
  },
  {
   "cell_type": "code",
   "execution_count": 1,
   "id": "7c4a554c",
   "metadata": {},
   "outputs": [
    {
     "name": "stdout",
     "output_type": "stream",
     "text": [
      "0    1\n",
      "1    2\n",
      "2    3\n",
      "dtype: int64\n"
     ]
    }
   ],
   "source": [
    "import pandas as pd\n",
    "\n",
    "# Input data\n",
    "ser1 = pd.Series([1, 2, 3, 4, 5])\n",
    "ser2 = pd.Series([4, 5, 6, 7, 8])\n",
    "\n",
    "# Get the items of ser1 not present in ser2\n",
    "items_not_in_ser2 = ser1[~ser1.isin(ser2)]\n",
    "\n",
    "# Display the result\n",
    "print(items_not_in_ser2)\n"
   ]
  },
  {
   "cell_type": "code",
   "execution_count": null,
   "id": "3544fafa",
   "metadata": {},
   "outputs": [],
   "source": []
  }
 ],
 "metadata": {
  "kernelspec": {
   "display_name": "Python 3 (ipykernel)",
   "language": "python",
   "name": "python3"
  },
  "language_info": {
   "codemirror_mode": {
    "name": "ipython",
    "version": 3
   },
   "file_extension": ".py",
   "mimetype": "text/x-python",
   "name": "python",
   "nbconvert_exporter": "python",
   "pygments_lexer": "ipython3",
   "version": "3.10.9"
  }
 },
 "nbformat": 4,
 "nbformat_minor": 5
}
